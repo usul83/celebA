{
 "cells": [
  {
   "cell_type": "markdown",
   "metadata": {
    "collapsed": true,
    "deletable": true,
    "editable": true
   },
   "source": [
    "The celebA dataset comprises over 200,000 jpeg images of various sizes, containing 10,000 different celebrities. Labels are provided for 40 facial attributes (hair style etc.) as well as bounding box coordinates for the faces. \n",
    "\n",
    "The original compilers of the dataset used it to train a model to classify the attributes (Y. Sun, X. Wang, and X. Tang. \"Deep learning face representation from predicting 10,000 classes\". In CVPR, 2014.). Another interesting use was to use the detected attributes to score bounding box proposals for likelihood of containing a face (S. Yang, P. Luo, C. Change Loy and X. Tang. \"From Facial Parts Responses to Face Detection: A Deep Learning Approach\". arXiv:1509.06451).\n",
    "\n",
    "Popular approaches for segmenting an image like the YOLO and Faster R-CNN models use very deep models and learn to classify the images in parallel with learning to draw boundary boxes. \n",
    "\n",
    "Here I explore whether it's possible to perform rough boundary box regression alone on a scaled down version of this dataset with a smaller convNet of four layers.\n",
    "\n",
    "First the images and labels were scaled down to a maximum dimension of 128 pixels. For the training, any dimension lower than 128 will be zero padded so that all images are 128x128, so the boundary boxes are offset to reflect that."
   ]
  },
  {
   "cell_type": "code",
   "execution_count": null,
   "metadata": {
    "collapsed": true
   },
   "outputs": [],
   "source": [
    "import os\n",
    "from PIL import Image\n",
    "\n",
    "dirPath = \"/Users/graeme/PycharmProjects/celebA/img_celeba/\"\n",
    "\n",
    "\n",
    "# create thumbnails\n",
    "size = 128, 128\n",
    "\n",
    "for infile in os.listdir(dirPath):\n",
    "    # outfile = os.path.splitext(infile)[0] + \".thumbnail\"\n",
    "    # if infile != outfile:\n",
    "    try:\n",
    "        im = Image.open(os.path.join(dirPath,infile))\n",
    "        width, height = im.size\n",
    "        im.thumbnail(size, Image.ANTIALIAS)\n",
    "        outpath = os.path.join(dirPath,'thumbs/',infile)\n",
    "        im.save(outpath, \"JPEG\")\n",
    "    except IOError:\n",
    "        print(\"cannot create thumbnail for\", infile)\n",
    "\n",
    "\n",
    "# # create new boundary box label dictionaries for scaled down version\n",
    "def create_dict(file):\n",
    "    dict = {}\n",
    "    handle = open(file)\n",
    "    for line in handle:\n",
    "        contents = line.split()\n",
    "        dict[contents[0]] = contents[1:]\n",
    "    return dict\n",
    "\n",
    "\n",
    "dictBB = create_dict('/Users/graeme/Downloads/Anno/list_bbox_celeba.txt')\n",
    "dictBBnew = dictBB\n",
    "imList = os.listdir(os.path.join(dirPath,'thumbs/'))\n",
    "\n",
    "n = 0\n",
    "for i in imList:\n",
    "    try:\n",
    "        im = Image.open(os.path.join(dirPath, i))\n",
    "        width, height = im.size\n",
    "        im = Image.open(os.path.join(dirPath,'thumbs/',i))\n",
    "        widthNew, heightNew = im.size\n",
    "        xScale = widthNew / width\n",
    "        xOffset = int((128 - widthNew) / 2)\n",
    "        yOffset = int((128 - heightNew) / 2)\n",
    "        yScale = heightNew / height\n",
    "        bbOld = [float(j) for j in dictBB[i]]\n",
    "        bbNew = [int(a * b) for a, b in zip(bbOld, [xScale,yScale,xScale,yScale])]\n",
    "        bbNew = [str(a + b) for a, b in zip(bbNew, [xOffset, yOffset, xOffset, yOffset])]\n",
    "        dictBBnew[i] = bbNew\n",
    "    except:\n",
    "        continue\n",
    "    n += 1\n",
    "    if n%1000==0:\n",
    "        print(n)\n",
    "\n",
    "# save new dictionary\n",
    "fout = dirPath+\"BBdictNew.txt\"\n",
    "fo = open(fout, \"w\")\n",
    "m=0\n",
    "for k, v in dictBBnew.items():\n",
    "    m+=1\n",
    "    bb = ' '.join(v)\n",
    "    fo.write(str(k)+ ' ' +  bb  + '\\n')\n",
    "\n",
    "fo.close()\n"
   ]
  },
  {
   "cell_type": "markdown",
   "metadata": {},
   "source": [
    "The model used has 3 convolutional layers, followed by one fully connected layer and then a classier. It can achieve a  classification accuracy upwards of 80% on the CIFAR-10 dataset if trained optimally. The convolutions are 5x5 with 64 features each and the fully connected layer has 32 features. There are 3x3 max-pooling operations (with a stride of 2) preceeding layer 1 and following layers 1 and 3, plus there is a skip connection from the output of layer 1 to layer 4. Batch normalisation is used after every layer, which speeds up learning and reduces hyperparameter selection sensitivity.\n",
    "\n",
    "First the label files are read and lists created in the same order as the image lists:"
   ]
  },
  {
   "cell_type": "code",
   "execution_count": 1,
   "metadata": {
    "collapsed": false
   },
   "outputs": [
    {
     "name": "stderr",
     "output_type": "stream",
     "text": [
      "/Library/Frameworks/Python.framework/Versions/3.6/lib/python3.6/importlib/_bootstrap.py:205: RuntimeWarning: compiletime version 3.5 of module 'tensorflow.python.framework.fast_tensor_util' does not match runtime version 3.6\n",
      "  return f(*args, **kwds)\n"
     ]
    }
   ],
   "source": [
    "import tensorflow as tf\n",
    "import numpy as np\n",
    "import os\n",
    "import matplotlib.pyplot as plt\n",
    "import Model\n",
    "\n",
    "# model parameters\n",
    "convWidth = 5\n",
    "conv1feat = 64\n",
    "conv2feat = 64\n",
    "conv3feat = 64\n",
    "linear1feat = 32\n",
    "batchSize = 50\n",
    "numEpochs = 1\n",
    "etaIn = 0.1\n",
    "gammaIn = 0.9\n",
    "\n",
    "# data parameters\n",
    "dirPath = \"/Users/graeme/PycharmProjects/celebA/img_celeba/\"\n",
    "logPath = \"/Users/graeme/PycharmProjects/celebA/log\"\n",
    "cropWidth = 128#int(176/4)\n",
    "cropHeight = 128#int(208/4)\n",
    "imChanels = 3\n",
    "numLabels = 44\n",
    "min_fraction_of_examples_in_queue = 0.01\n",
    "num_preprocess_threads = 16\n",
    "NUM_EXAMPLES_PER_EPOCH_FOR_TRAIN = 160000\n",
    "NUM_EXAMPLES_PER_EPOCH_FOR_EVAL = 19000\n",
    "\n",
    "\n",
    "def create_dict(file):\n",
    "    dict = {}\n",
    "    handle = open(file)\n",
    "    for line in handle:\n",
    "        contents = line.split()\n",
    "        dict[contents[0]] = contents[1:]\n",
    "    return dict\n",
    "\n",
    "\n",
    "# create label dictionaries\n",
    "dictBB = create_dict('/Users/graeme/PycharmProjects/celebA/BBdictNew.txt')\n",
    "dictAtt = create_dict('/Users/graeme/Downloads/Anno/list_attr_celeba.txt')\n",
    "for key, values in dictAtt.items():\n",
    "    try:\n",
    "        pos = key.find('.jpeg')\n",
    "        # valueList = values.split(',')\n",
    "        for element in range(len(values)):\n",
    "            if values[element] == '-1':\n",
    "                values[element] = 0\n",
    "            else:\n",
    "                values[element] = 1\n",
    "        dictAtt[key] = values#','.join(valueList)\n",
    "    except:\n",
    "        continue\n",
    "dictEval = create_dict('/Users/graeme/Downloads/list_eval_partition.txt')\n",
    "\n",
    "# count examples in each set\n",
    "trainExam = sum(i[0] == '0' for i in dictEval.values())\n",
    "valExam = sum(i[0] == '1' for i in dictEval.values())\n",
    "testExam = sum(i[0] == '2' for i in dictEval.values())\n",
    "\n",
    "# create file and label lists using dictionaries\n",
    "imList = os.listdir(os.path.join(dirPath,'thumbs/'))\n",
    "del imList[30088]  # .DS file\n",
    "trainFiles=[]\n",
    "trainLabels=[]\n",
    "evalFiles=[]\n",
    "evalLabels=[]\n",
    "testFiles=[]\n",
    "testLabels=[]\n",
    "for i in imList:\n",
    "    bb = [float(j) for j in dictBB[i]]\n",
    "    partition = dictEval[i]\n",
    "    if partition[0] == '0':\n",
    "        trainFiles.append(os.path.join(dirPath,'thumbs/', i))\n",
    "        trainLabels.append(bb + dictAtt[i])\n",
    "    elif partition[0] == '1':\n",
    "        evalFiles.append(os.path.join(dirPath,'thumbs/', i))\n",
    "        test = dictBB[i]\n",
    "        evalLabels.append(bb + dictAtt[i])\n",
    "    elif partition[0] == '2':\n",
    "        testFiles.append(os.path.join(dirPath,'thumbs/', i))\n",
    "        testLabels.append(bb + dictAtt[i])"
   ]
  },
  {
   "cell_type": "markdown",
   "metadata": {},
   "source": [
    "After preparing the data, the model is loaded from the Model class where it is defined."
   ]
  },
  {
   "cell_type": "code",
   "execution_count": 2,
   "metadata": {
    "collapsed": true
   },
   "outputs": [],
   "source": [
    "## model training\n",
    "images = tf.placeholder(dtype=tf.float32, shape=[None,cropHeight,cropWidth,imChanels])\n",
    "labels = tf.placeholder(dtype=tf.int64, shape=[None,numLabels])\n",
    "\n",
    "# create model\n",
    "model = Model.Model(images,labels, convWidth, conv1feat, conv2feat, conv3feat, linear1feat)"
   ]
  },
  {
   "cell_type": "markdown",
   "metadata": {},
   "source": [
    "The classifier will be trained to output a vector giving the starting x & y coordinates and the height and width of the boundary box. The loss fuction used will add a penalty for incorrect end coordinates, so as to discourage the model from prioritising learning the boundary box size over position. \n",
    "\n",
    "The loss function used is mean squared error and optimised using Nesterov's accelerated gradient method."
   ]
  },
  {
   "cell_type": "code",
   "execution_count": 3,
   "metadata": {
    "collapsed": true
   },
   "outputs": [],
   "source": [
    "model._detect_bb(cropWidth,cropHeight,batchSize)\n",
    "model._use_nesterov(eta=etaIn,gamma=gammaIn)"
   ]
  },
  {
   "cell_type": "markdown",
   "metadata": {},
   "source": [
    "Next, the datasets are loaded using tensorflow functionality to create a preprocessing queue. The images are normalised, which makes learning easier."
   ]
  },
  {
   "cell_type": "code",
   "execution_count": 4,
   "metadata": {
    "collapsed": true
   },
   "outputs": [],
   "source": [
    "restoreMode = False\n",
    "\n",
    "def _readFile2(fileName, labels):\n",
    "    # function to decode image, crop and normalise, can be used as a mapping method for a dataset\n",
    "    imageFile = tf.read_file(fileName)\n",
    "    image = tf.image.decode_image(imageFile,channels=imChanels)\n",
    "    if restoreMode is False:\n",
    "        image = tf.image.per_image_standardization(image)\n",
    "    image = tf.image.resize_image_with_crop_or_pad(image, cropHeight, cropWidth)\n",
    "    return image, labels\n",
    "\n",
    "\n",
    "def getData2(fileNames, fileLabels, batchSize, testFlag):\n",
    "    # function to create datasets for efficient processing, can be queued up by tf\n",
    "    if testFlag > 0:\n",
    "        num_examples_per_epoch = NUM_EXAMPLES_PER_EPOCH_FOR_EVAL\n",
    "    else:\n",
    "        num_examples_per_epoch = NUM_EXAMPLES_PER_EPOCH_FOR_TRAIN\n",
    "    min_queue_examples = int(num_examples_per_epoch * min_fraction_of_examples_in_queue)\n",
    "\n",
    "    dataset = tf.data.Dataset.from_tensor_slices((fileNames, fileLabels))\n",
    "    dataset = dataset.map(_readFile2,num_parallel_calls=num_preprocess_threads)\n",
    "    dataset = dataset.shuffle(buffer_size=min_queue_examples)\n",
    "    dataset = dataset.batch(batchSize)\n",
    "    return dataset\n",
    "\n",
    "\n",
    "# create datasets\n",
    "with tf.device('/cpu:0'):\n",
    "    trainData = getData2(trainFiles, trainLabels, batchSize, testFlag=0)\n",
    "    valData = getData2(evalFiles, evalLabels, batchSize, testFlag=1)\n",
    "    testData = getData2(testFiles, testLabels, batchSize=testExam, testFlag=2)\n",
    "\n",
    "# create iterators\n",
    "iteratorTrain = tf.data.Iterator.from_structure(trainData.output_types, trainData.output_shapes)\n",
    "iteratorVal = tf.data.Iterator.from_structure(valData.output_types, valData.output_shapes)\n",
    "iteratorTest = tf.data.Iterator.from_structure(testData.output_types, testData.output_shapes)\n",
    "next_batchTrain = iteratorTrain.get_next()\n",
    "next_batchVal = iteratorVal.get_next()\n",
    "next_batchTest = iteratorTest.get_next()\n",
    "training_init_op = iteratorTrain.make_initializer(trainData)\n",
    "validation_init_op = iteratorVal.make_initializer(valData)\n",
    "test_init_op = iteratorTest.make_initializer(testData)\n",
    "\n",
    "# initialise tf\n",
    "sess = tf.InteractiveSession()"
   ]
  },
  {
   "cell_type": "markdown",
   "metadata": {},
   "source": [
    "Now we train the model. Iterations are limited to 100 as we shall see the model converges by then."
   ]
  },
  {
   "cell_type": "code",
   "execution_count": 6,
   "metadata": {
    "collapsed": false
   },
   "outputs": [
    {
     "name": "stdout",
     "output_type": "stream",
     "text": [
      "Step 0, Train Loss 0.237875, Val Loss 0.191324\n",
      "Step 10, Train Loss 0.102317, Val Loss 0.147486\n",
      "Step 20, Train Loss 0.0600575, Val Loss 0.116429\n",
      "Step 30, Train Loss 0.0560918, Val Loss 0.0716314\n",
      "Step 40, Train Loss 0.0278722, Val Loss 0.0412231\n",
      "Step 50, Train Loss 0.031112, Val Loss 0.0355213\n",
      "Step 60, Train Loss 0.037667, Val Loss 0.0409039\n",
      "Step 70, Train Loss 0.0231391, Val Loss 0.035265\n",
      "Step 80, Train Loss 0.0361555, Val Loss 0.0314031\n",
      "Step 90, Train Loss 0.0245483, Val Loss 0.0317307\n"
     ]
    },
    {
     "data": {
      "image/png": "[encoded data removed]",
      "text/plain": [
       "<matplotlib.figure.Figure at 0x12c8b4160>"
      ]
     },
     "metadata": {},
     "output_type": "display_data"
    },
    {
     "data": {
      "image/png": "[encoded data removed]",
      "text/plain": [
       "<matplotlib.figure.Figure at 0x12c8b49b0>"
      ]
     },
     "metadata": {},
     "output_type": "display_data"
    }
   ],
   "source": [
    "model._add_tensorboard(logPath, sess)\n",
    "sess.run(tf.global_variables_initializer())\n",
    "\n",
    "# training iterations\n",
    "trainLosses = []\n",
    "valLosses = []\n",
    "for epochLoop in range(numEpochs):\n",
    "    sess.run(training_init_op)\n",
    "    sess.run(validation_init_op)\n",
    "\n",
    "    for iterLoop in range(100):#range(int(trainExam/batchSize)):\n",
    "        imagesBatch, labelsBatch = sess.run(next_batchTrain)\n",
    "        model.trainStep.run(feed_dict={images:imagesBatch,labels:labelsBatch})\n",
    "        trainLoss, trainSummary = sess.run([model.loss, model.merged],\n",
    "                                           feed_dict={images: imagesBatch, labels: labelsBatch})\n",
    "        model.train_writer.add_summary(trainSummary, iterLoop)\n",
    "        trainLosses.append(trainLoss)\n",
    "\n",
    "        #test loss\n",
    "        imagesBatch, labelsBatch = sess.run(next_batchVal)\n",
    "        valLoss, valSummary = sess.run([model.loss, model.merged],\n",
    "                                       feed_dict={images: imagesBatch, labels: labelsBatch})\n",
    "        model.test_writer.add_summary(valSummary, iterLoop)\n",
    "        valLosses.append(trainLoss)\n",
    "\n",
    "        if iterLoop %10 ==0:\n",
    "            print('Step %d, Train Loss %g, Val Loss %g' % (iterLoop,trainLoss,valLoss))\n",
    "\n",
    "save_path = model.saver.save(sess, logPath+\"model.ckpt\")\n",
    "plt.figure(1)\n",
    "plt.xlabel('Steps')\n",
    "plt.ylabel('Train MSE')\n",
    "plt.plot(trainLosses)\n",
    "plt.figure(2)\n",
    "plt.xlabel('Steps')\n",
    "plt.ylabel('Test MSE')\n",
    "plt.plot(valLosses)\n",
    "plt.show()"
   ]
  },
  {
   "cell_type": "markdown",
   "metadata": {},
   "source": [
    "Now to test the model."
   ]
  },
  {
   "cell_type": "code",
   "execution_count": 8,
   "metadata": {
    "collapsed": false
   },
   "outputs": [
    {
     "name": "stdout",
     "output_type": "stream",
     "text": [
      "True: [ 73.  19.  23.  49.], Predicted: [ 54.  14.  27.  59.], Error: [ 19.   5.  -4. -10.]\n",
      "True: [ 56.  19.  65.  58.], Predicted: [ 49.   8.  56.  33.], Error: [  7.  11.   9.  25.]\n",
      "True: [ 39.  11.  76.  76.], Predicted: [ 53.  14.  48.  30.], Error: [-14.  -3.  28.  46.]\n",
      "True: [ 36.  25.  59.  98.], Predicted: [ 50.  16.  43.  67.], Error: [-14.   9.  16.  31.]\n",
      "True: [ 37.  16.  60.  82.], Predicted: [ 48.   4.  45.  64.], Error: [-11.  12.  15.  18.]\n",
      "True: [ 48.   9.  41.  28.], Predicted: [ 49.  15.  64.  45.], Error: [ -1.  -6. -23. -17.]\n",
      "True: [ 43.  25.  83.  99.], Predicted: [ 36.  17.  75.  76.], Error: [  7.   8.   8.  23.]\n",
      "True: [ 26.  21.  37.  59.], Predicted: [ 41.  34.  47.  55.], Error: [-15. -13. -10.   4.]\n",
      "True: [  32.   14.   93.  108.], Predicted: [ 35.  24.  68.  76.], Error: [ -3. -10.  25.  32.]\n",
      "True: [ 31.  18.  69.  78.], Predicted: [ 48.   7.  57.  62.], Error: [-17.  11.  12.  16.]\n"
     ]
    }
   ],
   "source": [
    "restoreMode = True\n",
    "\n",
    "imagesBatch, labelsBatch = sess.run(next_batchVal)\n",
    "labelsPred = model.labels.eval(feed_dict={images: imagesBatch, labels: labelsBatch})\n",
    "\n",
    "error = np.around(labelsBatch[:,:4] - labelsPred*128)\n",
    "for line in range(10):\n",
    "    print('True: %s, Predicted: %s, Error: %s' % \n",
    "          (labelsBatch[line,:4], np.around(labelsPred[line,:4]*128), error[line,:]))\n"
   ]
  },
  {
   "cell_type": "markdown",
   "metadata": {},
   "source": [
    "There's no consistent pattern in accuracy from looking at a sample like this, suggesting the error for most of the coordinates is around the same. The test MSE corresponds to an arror of around +/-22 pixels which covers around a third of the image.\n",
    "\n",
    "With the model having converged at this level quite quickly, it appears it does not have the depth to complete this task to any greater accuracy. Although typically, models like these would cycle over the entire dataset many times (versus about 3% of it here), so perhaps given more time and with optimisation of hyperparameters slow gains would be made.\n",
    "\n",
    "The conclusion from this data though is that the a more complex model is likely to be required. "
   ]
  }
 ],
 "metadata": {
  "kernelspec": {
   "display_name": "Python 3",
   "language": "python",
   "name": "python3"
  },
  "language_info": {
   "codemirror_mode": {
    "name": "ipython",
    "version": 3
   },
   "file_extension": ".py",
   "mimetype": "text/x-python",
   "name": "python",
   "nbconvert_exporter": "python",
   "pygments_lexer": "ipython3",
   "version": "3.6.0"
  }
 },
 "nbformat": 4,
 "nbformat_minor": 0
}
